{
 "cells": [
  {
   "cell_type": "code",
   "execution_count": null,
   "id": "843ed055-0f92-44fd-8a65-c492fe805240",
   "metadata": {},
   "outputs": [],
   "source": [
    "                  #nested if else "
   ]
  },
  {
   "cell_type": "code",
   "execution_count": 4,
   "id": "d94af491-8b42-424d-9e24-5e8073c8e8e1",
   "metadata": {},
   "outputs": [
    {
     "name": "stdin",
     "output_type": "stream",
     "text": [
      "enter first number:  56\n",
      "enter second number:  76\n",
      "enter third number:  85\n"
     ]
    },
    {
     "name": "stdout",
     "output_type": "stream",
     "text": [
      "largest is:  85\n"
     ]
    }
   ],
   "source": [
    "#11. Write a program to find the largest among three numbers using nested if-else statements\n",
    "\n",
    "num1 =int(input(\"enter first number: \"))\n",
    "num2 =int(input(\"enter second number: \"))\n",
    "num3 =int(input(\"enter third number: \"))\n",
    "          \n",
    "if (num1)>(num2):\n",
    "    if (num1)>(num3):\n",
    "          print(\"largest is: \",num1)\n",
    "    else:\n",
    "          print(\"largest is: \",num3)\n",
    "    if (num2)>(num3):\n",
    "          print(\"largest is: \",num2)\n",
    "else:\n",
    "          print(\"largest is: \",num3)\n",
    "          "
   ]
  },
  {
   "cell_type": "code",
   "execution_count": 2,
   "id": "b2fb9336-f22a-4bc0-a174-69eec2f18fe8",
   "metadata": {},
   "outputs": [
    {
     "name": "stdin",
     "output_type": "stream",
     "text": [
      "enter length of side1:  2cm\n",
      "enter length of side2:  2cm\n",
      "enter length of side3:  2cm\n"
     ]
    },
    {
     "name": "stdout",
     "output_type": "stream",
     "text": [
      "equilateral triangle\n"
     ]
    }
   ],
   "source": [
    "#12. Implement a program to determine if a triangle is equilateral, isosceles, or scalene.\n",
    "\n",
    "side1=input(\"enter length of side1: \")\n",
    "side2=input(\"enter length of side2: \")\n",
    "side3=input(\"enter length of side3: \")\n",
    "\n",
    "if (side1)==(side2)==(side3):\n",
    "    print(\"equilateral triangle\")\n",
    "elif (side1)==(side2) or (side1)==(side3) or (side2)==(side3):\n",
    "    print(\"isoceless triangle\")\n",
    "else:\n",
    "    print(\"scalene\")"
   ]
  },
  {
   "cell_type": "code",
   "execution_count": 8,
   "id": "71e7144e-b0ba-4791-b8ce-3df75f803488",
   "metadata": {},
   "outputs": [
    {
     "name": "stdin",
     "output_type": "stream",
     "text": [
      "enter year:  1997\n"
     ]
    },
    {
     "name": "stdout",
     "output_type": "stream",
     "text": [
      "it's not leap year or a centuary year\n"
     ]
    }
   ],
   "source": [
    "#Develop a program that checks if a year is a leap year and also if it is a century year.\n",
    "\n",
    "year=int(input(\"enter year: \"))\n",
    "if year %4==0:\n",
    "    if year%100==0:\n",
    "        if year%400==0:\n",
    "            print(\"it's a leap year and centuary year\")\n",
    "        else:\n",
    "            print(\"it's a leap year but not centuary year\")\n",
    "    else:\n",
    "        print(\"it's centuary year but not leap year\")\n",
    "else:\n",
    "    print(\"it's not leap year or a centuary year\")"
   ]
  },
  {
   "cell_type": "code",
   "execution_count": 23,
   "id": "f208001d-bcc0-42a0-85d7-e85c941b3f61",
   "metadata": {},
   "outputs": [
    {
     "name": "stdin",
     "output_type": "stream",
     "text": [
      "enter number:  2\n"
     ]
    },
    {
     "name": "stdout",
     "output_type": "stream",
     "text": [
      "entered number is positive\n"
     ]
    }
   ],
   "source": [
    "#14. Write a Python script to determine if a number is positive, negative, or zero.\n",
    "\n",
    "x=int(input(\"enter number: \"))\n",
    "if x>0:\n",
    "    print(\"entered number is positive\")\n",
    "else:\n",
    "    if x<0:\n",
    "        print(\"entered number is negative\")\n",
    "    else:\n",
    "        print(\"entered number is zero\")"
   ]
  },
  {
   "cell_type": "code",
   "execution_count": 25,
   "id": "9a7a774f-954b-4251-acac-3b091a4227e2",
   "metadata": {},
   "outputs": [
    {
     "name": "stdin",
     "output_type": "stream",
     "text": [
      "enter age of a person:  14\n"
     ]
    },
    {
     "name": "stdout",
     "output_type": "stream",
     "text": [
      "person is teenager\n"
     ]
    }
   ],
   "source": [
    "#Create a program to check if a person is a teenager (between 13 and 19 years old).\n",
    "\n",
    "x=int(input(\"enter age of a person: \"))\n",
    "if 13<x<=19:\n",
    "    print(\"person is teenager\")\n",
    "else:\n",
    "    print(\"not a teenager\")"
   ]
  },
  {
   "cell_type": "code",
   "execution_count": 37,
   "id": "4d5ae33a-00f3-4b0a-bd2f-04ad02dc13aa",
   "metadata": {},
   "outputs": [
    {
     "name": "stdin",
     "output_type": "stream",
     "text": [
      "enter angle:  120\n"
     ]
    },
    {
     "name": "stdout",
     "output_type": "stream",
     "text": [
      "obtuse angle\n"
     ]
    }
   ],
   "source": [
    "#16. Develop a program that determines the type of angle based on its measure (acute, obtuse, or right).\n",
    "\n",
    "angle=int(input(\"enter angle: \"))\n",
    "\n",
    "if angle<90:\n",
    "    print(\"acute angle\")\n",
    "else:\n",
    "    if angle==90:\n",
    "        print(\"right angle\")\n",
    "    else:\n",
    "        if angle<180:\n",
    "            print(\"obtuse angle\")\n",
    "        else:\n",
    "            print(\"reflex angle\")"
   ]
  },
  {
   "cell_type": "code",
   "execution_count": 57,
   "id": "0c91268a-0d72-4c20-b3e8-ced41198fbbe",
   "metadata": {},
   "outputs": [
    {
     "name": "stdin",
     "output_type": "stream",
     "text": [
      "enter the coefficient of x^2:  2\n",
      "enter the coefficient of x:  4\n",
      "enter constant:  3\n"
     ]
    },
    {
     "name": "stdout",
     "output_type": "stream",
     "text": [
      "root1=  -1.0 + i 2.8284271247461903\n",
      "root2=  -1.0 + i 2.8284271247461903\n"
     ]
    }
   ],
   "source": [
    "#17. Write a Python program to calculate the roots of a quadratic equation.\n",
    "import math     \n",
    "\n",
    "a=float(input(\"enter the coefficient of x^2: \"))\n",
    "b=float(input(\"enter the coefficient of x: \"))\n",
    "c=float(input(\"enter constant: \"))\n",
    "#calculating discrimant\n",
    "\n",
    "discriminant=b**2-4*a*c\n",
    "\n",
    "if discriminant>0:\n",
    "    #roots are real and distinct\n",
    "    #calculating real roots\n",
    "    root1=(-b+ math.sqrt(discriminant))/2*a\n",
    "    root2=(-b- math.sqrt(discriminant))/2*a\n",
    "    print(\"Root1: \",root1 )\n",
    "    print(\"Root2: \",root2)\n",
    "if discriminant==0:\n",
    "    #roots are real and equal\n",
    "    root==-b/(2*a)\n",
    "    print(\"roots of the q.e are: \",root)\n",
    "else:\n",
    "    #complex roots\n",
    "    real_part=-b/(2*a)\n",
    "    imaginary_part=math.sqrt(-discriminant)/2*a\n",
    "    print(\"root1= \",real_part ,\"+\",\"i\",imaginary_part)\n",
    "    print(\"root2= \",real_part,\"+\",\"i\",imaginary_part)"
   ]
  },
  {
   "cell_type": "code",
   "execution_count": 63,
   "id": "e953eb5a-4e1d-4bb0-85c2-1e313e75a19c",
   "metadata": {},
   "outputs": [
    {
     "name": "stdin",
     "output_type": "stream",
     "text": [
      "enter number:  6\n"
     ]
    },
    {
     "name": "stdout",
     "output_type": "stream",
     "text": [
      "day of the week is:  friday\n"
     ]
    }
   ],
   "source": [
    "#18. Implement a program to determine the day of the week based on a user-provided number (1 for Monday, 2 for tuesday etc\n",
    "day_number=int(input(\"enter number: \"))\n",
    "day_week=['sunday','monday','tuesday','wednesday','thursday','friday','saturday']\n",
    "\n",
    "if day_number>=1 and day_number<=7:\n",
    "    day_week=day_week[day_number-1]\n",
    "    print(\"day of the week is: \",day_week)\n",
    "else:\n",
    "    print(\"invalid input enter in the range between 1 to 7\")\n"
   ]
  },
  {
   "cell_type": "code",
   "execution_count": 65,
   "id": "0b93c277-497b-4e8a-836c-63e82b50f9c0",
   "metadata": {},
   "outputs": [
    {
     "name": "stdin",
     "output_type": "stream",
     "text": [
      "enter year:  1997\n"
     ]
    },
    {
     "name": "stdout",
     "output_type": "stream",
     "text": [
      "1997 year is not a leap year\n"
     ]
    }
   ],
   "source": [
    "#Create a program that determines if a year is a leap year and also if it is evenly divisible by 400.\n",
    "year=int(input(\"enter year: \"))\n",
    "if year %4==0:\n",
    "    if year%100==0:\n",
    "        if year%400==0:\n",
    "            print(year,\"is a leap year and evenly divisible by 400\")\n",
    "        else:\n",
    "            print(year,\"is not a leap year\")\n",
    "    else:\n",
    "        print(year,\"is a leap year\")\n",
    "else:\n",
    "    print(year,\"year is not a leap year\")"
   ]
  },
  {
   "cell_type": "code",
   "execution_count": 71,
   "id": "8e467592-6351-496b-8a93-a7ab3e1831c2",
   "metadata": {},
   "outputs": [
    {
     "name": "stdin",
     "output_type": "stream",
     "text": [
      "enter number:  6\n"
     ]
    },
    {
     "name": "stdout",
     "output_type": "stream",
     "text": [
      "given number is not a prime number\n"
     ]
    }
   ],
   "source": [
    "#20. Develop a program that checks if a given number is prime or not using nested if-else statements.\n",
    "\n",
    "x=int(input(\"enter number: \"))\n",
    "if x>1:\n",
    "    if x==2:\n",
    "        print(\"given number is prime number\")\n",
    "    else:\n",
    "        for i in range(1,x):\n",
    "            if x%i==0:\n",
    "                print(\"given number is not a prime number\")\n",
    "                break\n",
    "            else:\n",
    "                print(\"given number is a prime number\")\n",
    "        else:\n",
    "            print(\"given number is not a prime number\")\n",
    "        \n",
    "    "
   ]
  },
  {
   "cell_type": "code",
   "execution_count": null,
   "id": "b82c0430-2791-4ecb-b703-b13b1f9e2326",
   "metadata": {},
   "outputs": [],
   "source": [
    "                                      #basic if_else"
   ]
  },
  {
   "cell_type": "code",
   "execution_count": 72,
   "id": "7801c3ea-45bc-431e-8e7b-8a64ca00b8fd",
   "metadata": {},
   "outputs": [
    {
     "name": "stdin",
     "output_type": "stream",
     "text": [
      "enter number:  7\n"
     ]
    },
    {
     "name": "stdout",
     "output_type": "stream",
     "text": [
      "given number is positive\n"
     ]
    }
   ],
   "source": [
    "#1. Write a Python program to check if a given number is positive or negative.\n",
    "\n",
    "x=int(input(\"enter number: \"))\n",
    "if x>0:\n",
    "    print(\"given number is positive\")\n",
    "else:\n",
    "    print(\"given number is negative\")"
   ]
  },
  {
   "cell_type": "code",
   "execution_count": 73,
   "id": "92523e5d-29e9-40a2-885c-da41050a61bc",
   "metadata": {},
   "outputs": [
    {
     "name": "stdin",
     "output_type": "stream",
     "text": [
      "enter age:  13\n"
     ]
    },
    {
     "name": "stdout",
     "output_type": "stream",
     "text": [
      "not eligible for vote\n"
     ]
    }
   ],
   "source": [
    "#2. Create a program that determines if a person is eligible to vote based on their age.\n",
    "\n",
    "x=int(input(\"enter age: \"))\n",
    "if x>=18:\n",
    "    print(\"eligible for vote\")\n",
    "else:\n",
    "    print(\"not eligible for vote\")"
   ]
  },
  {
   "cell_type": "code",
   "execution_count": 74,
   "id": "adbd9ecb-2b56-46df-80ae-ca445c29e312",
   "metadata": {},
   "outputs": [
    {
     "name": "stdout",
     "output_type": "stream",
     "text": [
      "maximum is:  15\n"
     ]
    }
   ],
   "source": [
    "#3. Develop a program to find the maximum of two numbers using if-else statements.\n",
    "x=10\n",
    "y=15\n",
    "if x>y:\n",
    "    print(\"maximum is: \",x)\n",
    "else:\n",
    "    print(\"maximum is: \",y)\n"
   ]
  },
  {
   "cell_type": "code",
   "execution_count": 78,
   "id": "48e0a893-b323-4eb6-9705-1b4c207ab81c",
   "metadata": {},
   "outputs": [
    {
     "name": "stdin",
     "output_type": "stream",
     "text": [
      "enter year:  2020\n"
     ]
    },
    {
     "name": "stdout",
     "output_type": "stream",
     "text": [
      "leap year\n"
     ]
    }
   ],
   "source": [
    "#4. Write a Python script to classify a given year as a leap year or not.\n",
    "x=int(input(\"enter year: \"))\n",
    "if x %4==0:\n",
    "    if x%100==0:\n",
    "        if x%400==0:\n",
    "            print(\"leap year\")\n",
    "        else:\n",
    "            print(\"not a leap year\")\n",
    "    else:\n",
    "        print(\"leap year\")"
   ]
  },
  {
   "cell_type": "code",
   "execution_count": 83,
   "id": "dbd0711e-6927-4425-8044-fd3f96191931",
   "metadata": {},
   "outputs": [
    {
     "name": "stdin",
     "output_type": "stream",
     "text": [
      "enter character:  e\n"
     ]
    },
    {
     "name": "stdout",
     "output_type": "stream",
     "text": [
      "entered char is vowel\n"
     ]
    }
   ],
   "source": [
    "#5. Create a program that checks whether a character is a vowel or a consonant.\n",
    "\n",
    "x=(input(\"enter character: \"))\n",
    "if x.lower() in \"aeiou\":\n",
    "    print(\"entered char is vowel\")\n",
    "else:\n",
    "    print(\"entered char is not vowel\")\n",
    "    "
   ]
  },
  {
   "cell_type": "code",
   "execution_count": 84,
   "id": "bcf041a0-7663-4fa3-8dde-1896d64ee633",
   "metadata": {},
   "outputs": [
    {
     "name": "stdin",
     "output_type": "stream",
     "text": [
      "enter number:  4\n"
     ]
    },
    {
     "name": "stdout",
     "output_type": "stream",
     "text": [
      "entered number is even\n"
     ]
    }
   ],
   "source": [
    "#6. Implement a program to determine whether a given number is even or odd.\n",
    "\n",
    "x=int(input(\"enter number: \"))\n",
    "if x%2==0:\n",
    "    print(\"entered number is even\")\n",
    "else:\n",
    "    print(\"entered number is odd\")"
   ]
  },
  {
   "cell_type": "code",
   "execution_count": 88,
   "id": "86a856ed-29ff-49bc-aeb1-4601c2566b79",
   "metadata": {},
   "outputs": [
    {
     "name": "stdin",
     "output_type": "stream",
     "text": [
      "enter number:  -9\n"
     ]
    },
    {
     "name": "stdout",
     "output_type": "stream",
     "text": [
      "absolute value of number is:  9.0\n"
     ]
    }
   ],
   "source": [
    "#7. Write a Python function to calculate the absolute value of a number without using the `abs()` function.\n",
    "value=float(input(\"enter number: \"))\n",
    "if value<0:\n",
    "    absolute_value=-value\n",
    "if value>0:\n",
    "    absolute_value=value\n",
    "    \n",
    "print(\"absolute value of number is: \",absolute_value)"
   ]
  },
  {
   "cell_type": "code",
   "execution_count": 1,
   "id": "483d7ee2-0195-45f2-af31-eaa70256492e",
   "metadata": {},
   "outputs": [
    {
     "name": "stdout",
     "output_type": "stream",
     "text": [
      "largest is:  67\n"
     ]
    }
   ],
   "source": [
    "#8. Develop a program that determines the largest of three given numbers using if-else statements.\n",
    "\n",
    "x=10\n",
    "y=8\n",
    "z=67\n",
    "\n",
    "if (x>y) and (x>z):\n",
    "    if (y>z) and (y>x):\n",
    "        print(\"largest is : \",x)\n",
    "    print(\"largest is : \",y)\n",
    "else:\n",
    "    print(\"largest is: \",z)"
   ]
  },
  {
   "cell_type": "code",
   "execution_count": 4,
   "id": "cba607c8-da1c-4493-a67b-a293ccb9adc8",
   "metadata": {},
   "outputs": [
    {
     "name": "stdin",
     "output_type": "stream",
     "text": [
      "enter any string:  madam\n"
     ]
    },
    {
     "name": "stdout",
     "output_type": "stream",
     "text": [
      "given string is palindrome\n"
     ]
    }
   ],
   "source": [
    "#9. Create a program that checks if a given string is a palindrome.\n",
    "\n",
    "x=input(\"enter any string: \")\n",
    "if x==x[::-1]:\n",
    "    print(\"given string is palindrome\")\n",
    "else:\n",
    "    print(\"given string is not a palindrome\")"
   ]
  },
  {
   "cell_type": "code",
   "execution_count": 14,
   "id": "fa16d513-3a7c-44d1-a729-0b4a6d385384",
   "metadata": {},
   "outputs": [
    {
     "name": "stdin",
     "output_type": "stream",
     "text": [
      "enter student's score:  92\n"
     ]
    },
    {
     "name": "stdout",
     "output_type": "stream",
     "text": [
      "student grade is :  A\n"
     ]
    }
   ],
   "source": [
    "#10. Write a Python program to calculate the grade based on a student's score.\n",
    "\n",
    "x=float(input(\"enter student's score: \"))\n",
    "if x>=90:\n",
    "    grade='A' \n",
    "elif x>80:\n",
    "    grade='B'\n",
    "elif x>60:\n",
    "    grade='C'\n",
    "elif x>40:\n",
    "    grade='D'\n",
    "else:\n",
    "    grade='E'\n",
    "    \n",
    "print(\"student grade is : \",grade)"
   ]
  },
  {
   "cell_type": "code",
   "execution_count": null,
   "id": "c3ce2774-44e1-48a4-9598-d334be28ea94",
   "metadata": {},
   "outputs": [],
   "source": [
    "                                             #using elif"
   ]
  },
  {
   "cell_type": "code",
   "execution_count": 15,
   "id": "dbcdb2eb-33cf-4f3a-b54f-c1b008fdcb6d",
   "metadata": {},
   "outputs": [
    {
     "name": "stdin",
     "output_type": "stream",
     "text": [
      "enter student's score:  85\n"
     ]
    },
    {
     "name": "stdout",
     "output_type": "stream",
     "text": [
      "student grade is :  B\n"
     ]
    }
   ],
   "source": [
    "#21. Write a Python program to assign grades based on different ranges of scores using elif statements.\n",
    "\n",
    "\n",
    "x=float(input(\"enter student's score: \"))\n",
    "if x>=90:\n",
    "    grade='A' \n",
    "elif x>80:\n",
    "    grade='B'\n",
    "elif x>60:\n",
    "    grade='C'\n",
    "elif x>40:\n",
    "    grade='D'\n",
    "else:\n",
    "    grade='E'\n",
    "    \n",
    "print(\"student grade is : \",grade)"
   ]
  },
  {
   "cell_type": "code",
   "execution_count": 20,
   "id": "7525418a-0065-49e4-aefe-bfd66f9b2ed0",
   "metadata": {},
   "outputs": [
    {
     "name": "stdin",
     "output_type": "stream",
     "text": [
      "enter angle:  90\n"
     ]
    },
    {
     "name": "stdout",
     "output_type": "stream",
     "text": [
      "right angle\n"
     ]
    }
   ],
   "source": [
    "#22. Implement a program to determine the type of a triangle based on its angles.\n",
    "\n",
    "angle=int(input(\"enter angle: \"))\n",
    "\n",
    "if angle<90:\n",
    "    print(\"acute angle\")\n",
    "elif angle==90:\n",
    "    print(\"right angle\")\n",
    "elif angle<180:\n",
    "    print(\"obtuse angle\")\n",
    "else:\n",
    "    print(\"reflex angle\")\n",
    "\n"
   ]
  },
  {
   "cell_type": "code",
   "execution_count": 31,
   "id": "3eeea83c-1b5d-4baa-bb57-6a7328ba6f7f",
   "metadata": {},
   "outputs": [
    {
     "name": "stdin",
     "output_type": "stream",
     "text": [
      "enter BMI values 20.5\n"
     ]
    },
    {
     "name": "stdout",
     "output_type": "stream",
     "text": [
      "person in healthy weight\n"
     ]
    }
   ],
   "source": [
    "#23. Develop a program to categorize a given person's BMI into underweight, normal, overweight, or obese using elif\n",
    "#BMI range is 18.5 to 24.9\n",
    "x=float(input(\"enter BMI values\"))\n",
    "\n",
    "if x<18.5:\n",
    "    print(\"person in underweight\")\n",
    "elif 18.5<x<24.9:\n",
    "    print(\"person in healthy weight\")\n",
    "elif 25.0<x<29.9:\n",
    "    print(\"person over weighted\")\n",
    "else:\n",
    "    print(\"obesed\")\n"
   ]
  },
  {
   "cell_type": "code",
   "execution_count": 35,
   "id": "241c0549-b1fd-4d75-9124-c032d4728c7b",
   "metadata": {},
   "outputs": [
    {
     "name": "stdin",
     "output_type": "stream",
     "text": [
      "enter any number:  78\n"
     ]
    },
    {
     "name": "stdout",
     "output_type": "stream",
     "text": [
      "given number 78 is positive\n"
     ]
    }
   ],
   "source": [
    "#24. Create a program that determines whether a given number is positive, negative, or zero using elif \n",
    "\n",
    "x=int(input(\"enter any number: \"))\n",
    "\n",
    "if x>0:\n",
    "    print(\"given number\", x,\"is positive\")\n",
    "elif x<0:\n",
    "    print(\"given number\",x,\"is negative\")\n",
    "else:\n",
    "    print(\"entered number is zero\")\n"
   ]
  },
  {
   "cell_type": "code",
   "execution_count": 45,
   "id": "e38b887c-1cda-4520-a6a4-c9349d57484c",
   "metadata": {},
   "outputs": [
    {
     "name": "stdin",
     "output_type": "stream",
     "text": [
      "enter character:  *\n"
     ]
    },
    {
     "name": "stdout",
     "output_type": "stream",
     "text": [
      "x is special character\n"
     ]
    }
   ],
   "source": [
    "#25. Write a Python script to determine the type of a character (uppercase, lowercase, or special) using elif\n",
    "\n",
    "x=input(\"enter character: \")\n",
    "\n",
    "if x.islower():\n",
    "    print(\"x is lower\")\n",
    "elif x.isupper():\n",
    "    print(\"x is upper\")\n",
    "else:\n",
    "    print(\"x is special character\")\n",
    "    "
   ]
  },
  {
   "cell_type": "code",
   "execution_count": 47,
   "id": "e5214077-ba49-4afc-8665-b4b7fe68bc67",
   "metadata": {},
   "outputs": [
    {
     "name": "stdin",
     "output_type": "stream",
     "text": [
      "enter purchase amount:  800\n"
     ]
    },
    {
     "name": "stdout",
     "output_type": "stream",
     "text": [
      "discounted price is:  0.05\n"
     ]
    }
   ],
   "source": [
    "#26. Implement a program to calculate the discounted price based on different purchase amounts using elif\n",
    "\n",
    "purchase_amount=float(input(\"enter purchase amount: \"))\n",
    "\n",
    "if purchase_amount>=1000:\n",
    "    discount=0.1\n",
    "elif purchase_amount>500:\n",
    "    discount=0.05\n",
    "else:\n",
    "    discount=0\n",
    "    \n",
    "print(\"discounted price is: \",discount)\n"
   ]
  },
  {
   "cell_type": "code",
   "execution_count": 49,
   "id": "7b3532d2-1c74-4bf6-ad03-390dd76cc9c0",
   "metadata": {},
   "outputs": [
    {
     "name": "stdin",
     "output_type": "stream",
     "text": [
      "enter the units consumed:  250\n"
     ]
    },
    {
     "name": "stdout",
     "output_type": "stream",
     "text": [
      "the electricity bill amount is:  1025.0\n"
     ]
    }
   ],
   "source": [
    "#27. Develop a program to calculate the electricity bill based on different consumption slabs using elif\n",
    "\n",
    "units_consumed=float(input(\"enter the units consumed: \"))\n",
    "\n",
    "if units_consumed<=100:\n",
    "    bill_amount=units_consumed*2.5\n",
    "elif units_consumed<=200:\n",
    "    bill_amount=100*2.5+(units_consumed-100)*4.5\n",
    "elif units_consumed<=300:\n",
    "    bill_amount=100*2.5+100*4.5+(units_consumed-200)*6.5\n",
    "else:\n",
    "    bill_amount=100*2.5+100*4.5+100*6.5+(units_consumed-300)*8.5\n",
    "print(\"the electricity bill amount is: \",bill_amount)"
   ]
  },
  {
   "cell_type": "code",
   "execution_count": 10,
   "id": "51c1b6c9-2367-44e5-8263-9870fdc5b5d0",
   "metadata": {},
   "outputs": [
    {
     "name": "stdin",
     "output_type": "stream",
     "text": [
      "enter side1:  2\n",
      "enter side2:  2\n",
      "enter side3:  5\n",
      "enter side4:  4\n"
     ]
    },
    {
     "name": "stdout",
     "output_type": "stream",
     "text": [
      "its a trapezoid bcoz 2 are parallel and are not parallel to each other\n"
     ]
    }
   ],
   "source": [
    "#28. Create a program to determine the type of quadrilateral based on its angles and sides using elif\n",
    "#quadralateral having 4 sides so we are initialsing four sides\n",
    "s1=int(input(\"enter side1: \"))\n",
    "s2=int(input(\"enter side2: \"))\n",
    "s3=int(input(\"enter side3: \"))\n",
    "s4=int(input(\"enter side4: \"))\n",
    "\n",
    "\n",
    "if (s1==s2) and (s3==s4):\n",
    "    print(\"its a rectangle or parallelogram because opp sides are equal and parallel\")\n",
    "elif (s1==s2==s3==s4):\n",
    "    print(\"its a square or rhombus because all sides are equal\")\n",
    "else:\n",
    "    if (s1==s2) and (s3!=s4):\n",
    "        print(\"its a trapezoid bcoz 2 are parallel and are not parallel to each other\")\n",
    "    \n",
    "\n"
   ]
  },
  {
   "cell_type": "code",
   "execution_count": 13,
   "id": "f7b54192-8ec9-486d-b531-340386de367a",
   "metadata": {},
   "outputs": [
    {
     "name": "stdin",
     "output_type": "stream",
     "text": [
      "enter month:  10\n"
     ]
    },
    {
     "name": "stdout",
     "output_type": "stream",
     "text": [
      "entered month is:  autumn\n"
     ]
    }
   ],
   "source": [
    "#29. Write a Python script to determine the season based on a user-provided month using elif statements.\n",
    "\n",
    "month=int(input(\"enter month: \"))\n",
    "\n",
    "if month==12 or month<=2:\n",
    "    season=\"winter\"\n",
    "elif month<=5:\n",
    "    season=\"summer\"\n",
    "elif month<=8:\n",
    "    season=\"spring\"\n",
    "else:\n",
    "    season=\"autumn\"\n",
    "    \n",
    "print(\"entered month is: \" ,season )"
   ]
  },
  {
   "cell_type": "code",
   "execution_count": 28,
   "id": "51e07182-ee8e-4729-a217-686487edbe25",
   "metadata": {},
   "outputs": [
    {
     "name": "stdin",
     "output_type": "stream",
     "text": [
      "enter year:  2020\n",
      "enter month_number  2\n"
     ]
    },
    {
     "name": "stdout",
     "output_type": "stream",
     "text": [
      "leap year and month having 28 days\n"
     ]
    }
   ],
   "source": [
    "#30. Implement a program to determine the type of a year (leap or common) and month (30 or 31 days) using\n",
    "\n",
    "year=int(input(\"enter year: \"))\n",
    "month= int(input(\"enter month_number \"))\n",
    "\n",
    "if year%4==0:\n",
    "    print(\"leap year and month having 28 days\")\n",
    "elif year%100==0 and (month==4 or month==6 or month==9 or month==11):\n",
    "    print(\"common year and month having 30 days\")\n",
    "else:\n",
    "    print(\"common year and month having 31 days\")\n",
    "                         "
   ]
  },
  {
   "cell_type": "code",
   "execution_count": 29,
   "id": "d0c3cf94-739e-4244-8eb4-76ca7562fcf7",
   "metadata": {},
   "outputs": [],
   "source": [
    "###BASIC LEVEL###"
   ]
  },
  {
   "cell_type": "code",
   "execution_count": 31,
   "id": "9c4a187e-3c0f-48c8-9aa1-639585464ac4",
   "metadata": {},
   "outputs": [
    {
     "name": "stdin",
     "output_type": "stream",
     "text": [
      "enter any number:  26\n"
     ]
    },
    {
     "name": "stdout",
     "output_type": "stream",
     "text": [
      "given number 26  is positive\n"
     ]
    }
   ],
   "source": [
    "#1. Write a Python program that checks if a given number is positive, negative, or zero.\n",
    "\n",
    "x=int(input(\"enter any number: \"))\n",
    "\n",
    "if x>0:\n",
    "    print(\"given number\", x , \" is positive\")\n",
    "elif x<0:\n",
    "    print(\"given number\", x , \" is negative\")\n",
    "else:\n",
    "    print(\"zero\")"
   ]
  },
  {
   "cell_type": "code",
   "execution_count": 32,
   "id": "8ae8c1ec-24fd-4c63-91b3-a41abf48de2b",
   "metadata": {},
   "outputs": [
    {
     "name": "stdin",
     "output_type": "stream",
     "text": [
      "enter age:  26\n"
     ]
    },
    {
     "name": "stdout",
     "output_type": "stream",
     "text": [
      "eligible for vote\n"
     ]
    }
   ],
   "source": [
    "#2. Create a program to determine if a person is eligible to vote based on their age.\n",
    "\n",
    "x=int(input(\"enter age: \"))\n",
    "if x>=18:\n",
    "    print(\"eligible for vote\")\n",
    "else:\n",
    "    print(\"not eligible for vote\")"
   ]
  },
  {
   "cell_type": "code",
   "execution_count": 33,
   "id": "3d2bf541-5e9d-4e64-b219-58bb12d460f1",
   "metadata": {},
   "outputs": [
    {
     "name": "stdin",
     "output_type": "stream",
     "text": [
      "enter number 1:  4\n",
      "enter number 2:  5\n"
     ]
    },
    {
     "name": "stdout",
     "output_type": "stream",
     "text": [
      "maximum number is num2\n"
     ]
    }
   ],
   "source": [
    "#3. Write a program to find the maximum of two given numbers using conditional statements.\n",
    "\n",
    "num1=int(input(\"enter number 1: \") )\n",
    "num2=int(input(\"enter number 2: \"))\n",
    "\n",
    "if num1 > num2:\n",
    "    max=num1\n",
    "    print(\"maximum number is: \",max)\n",
    "else:\n",
    "    print(\"maximum number is num2\")\n",
    "               "
   ]
  },
  {
   "cell_type": "code",
   "execution_count": 34,
   "id": "cb6f2e93-f3ae-4060-82ee-72ad5f8906dd",
   "metadata": {},
   "outputs": [
    {
     "name": "stdin",
     "output_type": "stream",
     "text": [
      "enter student's score:  87\n"
     ]
    },
    {
     "name": "stdout",
     "output_type": "stream",
     "text": [
      "student grade is :  B\n"
     ]
    }
   ],
   "source": [
    "#4. Develop a program that calculates the grade of a student based on their exam score.\n",
    "\n",
    "x=float(input(\"enter student's score: \"))\n",
    "if x>=90:\n",
    "    grade='A' \n",
    "elif x>80:\n",
    "    grade='B'\n",
    "elif x>60:\n",
    "    grade='C'\n",
    "elif x>40:\n",
    "    grade='D'\n",
    "else:\n",
    "    grade='E'\n",
    "    \n",
    "print(\"student grade is : \",grade)"
   ]
  },
  {
   "cell_type": "code",
   "execution_count": 35,
   "id": "43579688-fc04-439f-96c7-18982cd627b5",
   "metadata": {},
   "outputs": [
    {
     "name": "stdin",
     "output_type": "stream",
     "text": [
      "enter year:  2020\n"
     ]
    },
    {
     "name": "stdout",
     "output_type": "stream",
     "text": [
      "leap year\n"
     ]
    }
   ],
   "source": [
    "#5. Create a program that checks if a year is a leap year or not.\n",
    "\n",
    "x=int(input(\"enter year: \"))\n",
    "if x %4==0:\n",
    "    if x%100==0:\n",
    "        if x%400==0:\n",
    "            print(\"leap year\")\n",
    "        else:\n",
    "            print(\"not a leap year\")\n",
    "    else:\n",
    "        print(\"leap year\")\n"
   ]
  },
  {
   "cell_type": "code",
   "execution_count": 1,
   "id": "834f7783-42b6-4913-9fc9-8d66f4feaa9c",
   "metadata": {},
   "outputs": [
    {
     "name": "stdin",
     "output_type": "stream",
     "text": [
      "enter length of side1:  2\n",
      "enter length of side2:  3\n",
      "enter length of side3:  4\n"
     ]
    },
    {
     "name": "stdout",
     "output_type": "stream",
     "text": [
      "scalene\n"
     ]
    }
   ],
   "source": [
    "#6. Write a program to classify a triangle based on its sides' lengths.\n",
    "\n",
    "\n",
    "side1=input(\"enter length of side1: \")\n",
    "side2=input(\"enter length of side2: \")\n",
    "side3=input(\"enter length of side3: \")\n",
    "\n",
    "if (side1)==(side2)==(side3):\n",
    "    print(\"equilateral triangle\")\n",
    "elif (side1)==(side2) or (side1)==(side3) or (side2)==(side3):\n",
    "    print(\"isoceless triangle\")\n",
    "else:\n",
    "    print(\"scalene\")"
   ]
  },
  {
   "cell_type": "code",
   "execution_count": 2,
   "id": "e9fd01f2-31dd-4f53-ba23-075f6fcc7132",
   "metadata": {},
   "outputs": [
    {
     "name": "stdout",
     "output_type": "stream",
     "text": [
      "largest is:  67\n"
     ]
    }
   ],
   "source": [
    "#7. largest of 3 numbers\n",
    "x=10\n",
    "y=8\n",
    "z=67\n",
    "\n",
    "if (x>y) and (x>z):\n",
    "    if (y>z) and (y>x):\n",
    "        print(\"largest is : \",x)\n",
    "    print(\"largest is : \",y)\n",
    "else:\n",
    "    print(\"largest is: \",z)"
   ]
  },
  {
   "cell_type": "code",
   "execution_count": 3,
   "id": "9c3427c4-a99f-42ec-b791-766b1110fef3",
   "metadata": {},
   "outputs": [
    {
     "name": "stdin",
     "output_type": "stream",
     "text": [
      "enter character:  p\n"
     ]
    },
    {
     "name": "stdout",
     "output_type": "stream",
     "text": [
      "entered char is not vowel\n"
     ]
    }
   ],
   "source": [
    "#8. Develop a program that checks whether a character is a vowel or a consonant.\n",
    "\n",
    "x=(input(\"enter character: \"))\n",
    "if x.lower() in \"aeiou\":\n",
    "    print(\"entered char is vowel\")\n",
    "else:\n",
    "    print(\"entered char is not vowel\")\n",
    "    "
   ]
  },
  {
   "cell_type": "code",
   "execution_count": 12,
   "id": "eece0569-207c-4b81-9854-76445b7126dd",
   "metadata": {},
   "outputs": [
    {
     "name": "stdout",
     "output_type": "stream",
     "text": [
      "total cost of a shopping cart based on disscount is :  405.0\n"
     ]
    }
   ],
   "source": [
    "#9. Create a program to calculate the total cost of a shopping cart based on discounts. \n",
    "\n",
    "cart_items_amount=[10,20,30,40,50,60,70,80,90]\n",
    "\n",
    "total=sum(cart_items_amount)\n",
    "\n",
    "disscount=0.1\n",
    "\n",
    "disscount_amount=total*disscount\n",
    "\n",
    "total_amount=total- disscount_amount\n",
    "\n",
    "print(\"total cost of a shopping cart based on disscount is : \",total_amount)\n"
   ]
  },
  {
   "cell_type": "code",
   "execution_count": 14,
   "id": "5cf69281-25f3-4ba2-8b58-23848d26db21",
   "metadata": {},
   "outputs": [
    {
     "name": "stdin",
     "output_type": "stream",
     "text": [
      "enter number:  5\n"
     ]
    },
    {
     "name": "stdout",
     "output_type": "stream",
     "text": [
      "entered number is odd\n"
     ]
    }
   ],
   "source": [
    "#10. Write a program that checks if a given number is even or odd.\n",
    "\n",
    "x=int(input(\"enter number: \"))\n",
    "if x%2==0:\n",
    "    print(\"entered number is even\")\n",
    "else:\n",
    "    print(\"entered number is odd\")"
   ]
  },
  {
   "cell_type": "code",
   "execution_count": 15,
   "id": "202c3d07-a58e-403e-bc4c-4e333617bcbe",
   "metadata": {},
   "outputs": [],
   "source": [
    "###INTERMEDIATE LEVEL###"
   ]
  },
  {
   "cell_type": "code",
   "execution_count": 1,
   "id": "8930a479-4b6b-41df-b041-0eb1f3803e67",
   "metadata": {},
   "outputs": [
    {
     "name": "stdin",
     "output_type": "stream",
     "text": [
      "enter the coefficient of x^2:  3\n",
      "enter the coefficient of x:  4\n",
      "enter constant:  5\n"
     ]
    },
    {
     "name": "stdout",
     "output_type": "stream",
     "text": [
      "root1=  -0.6666666666666666 + i 9.9498743710662\n",
      "root2=  -0.6666666666666666 + i 9.9498743710662\n"
     ]
    }
   ],
   "source": [
    "#11. Write a program that calculates the roots of a quadratic equation\n",
    "\n",
    "import math     \n",
    "\n",
    "a=float(input(\"enter the coefficient of x^2: \"))\n",
    "b=float(input(\"enter the coefficient of x: \"))\n",
    "c=float(input(\"enter constant: \"))\n",
    "#calculating discrimant\n",
    "\n",
    "discriminant=b**2-4*a*c\n",
    "\n",
    "if discriminant>0:\n",
    "    #roots are real and distinct\n",
    "    #calculating real roots\n",
    "    root1=(-b+ math.sqrt(discriminant))/2*a\n",
    "    root2=(-b- math.sqrt(discriminant))/2*a\n",
    "    print(\"Root1: \",root1 )\n",
    "    print(\"Root2: \",root2)\n",
    "if discriminant==0:\n",
    "    #roots are real and equal\n",
    "    root==-b/(2*a)\n",
    "    print(\"roots of the q.e are: \",root)\n",
    "else:\n",
    "    #complex roots\n",
    "    real_part=-b/(2*a)\n",
    "    imaginary_part=math.sqrt(-discriminant)/2*a\n",
    "    print(\"root1= \",real_part ,\"+\",\"i\",imaginary_part)\n",
    "    print(\"root2= \",real_part,\"+\",\"i\",imaginary_part)"
   ]
  },
  {
   "cell_type": "code",
   "execution_count": 2,
   "id": "e68f28ea-5aff-46ba-a7bc-3716088be506",
   "metadata": {},
   "outputs": [
    {
     "name": "stdin",
     "output_type": "stream",
     "text": [
      "enter number:  5\n"
     ]
    },
    {
     "name": "stdout",
     "output_type": "stream",
     "text": [
      "day of the week is:  thursday\n"
     ]
    }
   ],
   "source": [
    "# 12. Create a program that determines the day of the week based on the day number (1-7).\n",
    "\n",
    "day_number=int(input(\"enter number: \"))\n",
    "day_week=['sunday','monday','tuesday','wednesday','thursday','friday','saturday']\n",
    "\n",
    "if day_number>=1 and day_number<=7:\n",
    "    day_week=day_week[day_number-1]\n",
    "    print(\"day of the week is: \",day_week)\n",
    "else:\n",
    "    print(\"invalid input enter in the range between 1 to 7\")\n"
   ]
  },
  {
   "cell_type": "code",
   "execution_count": 6,
   "id": "574027be-2c7f-4a48-881b-efbd7f7fbc80",
   "metadata": {},
   "outputs": [
    {
     "name": "stdin",
     "output_type": "stream",
     "text": [
      "enter number:  6\n"
     ]
    },
    {
     "name": "stdout",
     "output_type": "stream",
     "text": [
      "factorail of a number 6 is:  720\n"
     ]
    }
   ],
   "source": [
    "#13. Develop a program that calculates the factorial of a given number using recursion.\n",
    "\n",
    "\n",
    "num=int(input(\"enter number: \"))\n",
    "\n",
    "def factorial(num):\n",
    "    if num==0:\n",
    "        return 1\n",
    "    else:\n",
    "        return num*factorial(num-1)\n",
    "\n",
    "print(\"factorail of a number\" ,x ,\"is: \",factorial(num))"
   ]
  },
  {
   "cell_type": "code",
   "execution_count": 8,
   "id": "95cf631a-551f-4ad6-98ca-a9b96a318461",
   "metadata": {},
   "outputs": [
    {
     "name": "stdout",
     "output_type": "stream",
     "text": [
      "largest is:  67\n"
     ]
    }
   ],
   "source": [
    "#14. Write a program to find the largest among three numbers without using the `max()` function\n",
    "\n",
    "x=10\n",
    "y=8\n",
    "z=67\n",
    "\n",
    "if (x>y) and (x>z):\n",
    "    if (y>z) and (y>x):\n",
    "        print(\"largest is : \",x)\n",
    "    print(\"largest is : \",y)\n",
    "else:\n",
    "    print(\"largest is: \",z)\n"
   ]
  },
  {
   "cell_type": "code",
   "execution_count": 24,
   "id": "ccbc31af-55b9-41b9-bcb6-6b24b7a95157",
   "metadata": {},
   "outputs": [
    {
     "ename": "SyntaxError",
     "evalue": "invalid syntax (2794609072.py, line 25)",
     "output_type": "error",
     "traceback": [
      "\u001b[0;36m  Cell \u001b[0;32mIn[24], line 25\u001b[0;36m\u001b[0m\n\u001b[0;31m    else:\u001b[0m\n\u001b[0m    ^\u001b[0m\n\u001b[0;31mSyntaxError\u001b[0m\u001b[0;31m:\u001b[0m invalid syntax\n"
     ]
    }
   ],
   "source": [
    "#15. Create a program that simulates a basic ATM transaction menu.\n",
    "\n",
    "\n",
    "def display_menu():\n",
    "    print(\"welcome to ATM\")\n",
    "    print(\"1.check balance\")\n",
    "    print(\"2.deposit\")\n",
    "    print(\"3.withdrawl\")\n",
    "    print(\"4.exit\")\n",
    "    \n",
    "def check_balance(balance):\n",
    "    print(\"your current balance is: \",balance)\n",
    "    \n",
    "def deposit(balance):\n",
    "    amount=float(input(\"enter amount: \"))\n",
    "    balance+=amount\n",
    "print(\"deposit successfully,your new balance is: \",balance)\n",
    "    \n",
    "def withdrawl(balance):\n",
    "    amount=float(input(\"enter amount: \"))\n",
    "    \n",
    "if amount<=balance:\n",
    "    balance-=amount\n",
    "print(\"withdrawl successfully,your new balance is: \",balance)\n",
    "else:\n",
    "    print(\"insufficient funds\")\n",
    "    \n",
    "#initialise bal=1000\n",
    "\n",
    "balance=1000\n",
    "\n",
    "#mainloop\n",
    "\n",
    "while True:\n",
    "    display_menu()\n",
    "    coice=int(input(\"enter coice: \"))\n",
    "    \n",
    "    if choice==1:\n",
    "        check_balance(balance)\n",
    "    elif choice==2:\n",
    "        deposit(balance)\n",
    "    elif choice==3:\n",
    "        withdraw(balance)\n",
    "    elif choice==4:\n",
    "        print(\"thank you for using atm\")\n",
    "    \n",
    "    else:\n",
    "        print(\"invalid choice\")"
   ]
  },
  {
   "cell_type": "code",
   "execution_count": 1,
   "id": "f75e8b25-ab55-4803-8807-84f1f5fc0943",
   "metadata": {},
   "outputs": [
    {
     "name": "stdin",
     "output_type": "stream",
     "text": [
      "enter any string:  phani\n"
     ]
    },
    {
     "name": "stdout",
     "output_type": "stream",
     "text": [
      "given string is not a palindrome\n"
     ]
    }
   ],
   "source": [
    "#16. Build a program that checks if a given string is a palindrome or not.\n",
    "x=input(\"enter any string: \")\n",
    "if x==x[::-1]:\n",
    "    print(\"given string is palindrome\")\n",
    "else:\n",
    "    print(\"given string is not a palindrome\")"
   ]
  },
  {
   "cell_type": "code",
   "execution_count": 17,
   "id": "b9ee9be4-726f-4b40-83ea-e5b5fd3732ed",
   "metadata": {},
   "outputs": [
    {
     "ename": "NameError",
     "evalue": "name 'numbers' is not defined",
     "output_type": "error",
     "traceback": [
      "\u001b[0;31m---------------------------------------------------------------------------\u001b[0m",
      "\u001b[0;31mNameError\u001b[0m                                 Traceback (most recent call last)",
      "Cell \u001b[0;32mIn[17], line 8\u001b[0m\n\u001b[1;32m      5\u001b[0m         \u001b[38;5;28mprint\u001b[39m(\u001b[38;5;124m\"\u001b[39m\u001b[38;5;124menter atleat 3 numbers\u001b[39m\u001b[38;5;124m\"\u001b[39m)\n\u001b[1;32m      6\u001b[0m         \u001b[38;5;28;01mreturn\u001b[39;00m\n\u001b[0;32m----> 8\u001b[0m sorted_numbers \u001b[38;5;241m=\u001b[39m \u001b[38;5;28msorted\u001b[39m(\u001b[43mnumbers\u001b[49m)\n\u001b[1;32m      9\u001b[0m trimmed_numbers\u001b[38;5;241m=\u001b[39msorted_numbers[\u001b[38;5;241m1\u001b[39m:\u001b[38;5;241m-\u001b[39m\u001b[38;5;241m1\u001b[39m]\n\u001b[1;32m     10\u001b[0m average\u001b[38;5;241m=\u001b[39m\u001b[38;5;28msum\u001b[39m(trimmed_numbers)\u001b[38;5;241m/\u001b[39m\u001b[38;5;28mlen\u001b[39m(trimmed_numbers)\n",
      "\u001b[0;31mNameError\u001b[0m: name 'numbers' is not defined"
     ]
    }
   ],
   "source": [
    "#17. Write a program that calculates the average of a list of numbers, excluding the smallest and largest values.\n",
    "\n",
    "def calculate_average(numbers):\n",
    "    if len(numbers)<3:\n",
    "        print(\"enter atleat 3 numbers\")\n",
    "        return\n",
    "    \n",
    "sorted_numbers = sorted(numbers)\n",
    "trimmed_numbers=sorted_numbers[1:-1]\n",
    "average=sum(trimmed_numbers)/len(trimmed_numbers)\n",
    "return average\n",
    "\n",
    "numbers=[10,15,20,5,30]\n",
    "result=calculate_average(numbers)\n",
    "print(\"the average of a list of numbers, excluding the smallest and largest values is: \",result)"
   ]
  },
  {
   "cell_type": "code",
   "execution_count": 15,
   "id": "8988be44-150c-4a9d-bbf7-b95e5fcfc729",
   "metadata": {},
   "outputs": [
    {
     "data": {
      "text/plain": [
       "[2, 3, 4, 5]"
      ]
     },
     "execution_count": 15,
     "metadata": {},
     "output_type": "execute_result"
    }
   ],
   "source": [
    "l=[1,2,3,4,5,6]\n",
    "l[1:-1]"
   ]
  },
  {
   "cell_type": "code",
   "execution_count": 3,
   "id": "a0183853-7111-4aec-b7cb-0f29d96cb0bd",
   "metadata": {},
   "outputs": [
    {
     "name": "stdout",
     "output_type": "stream",
     "text": [
      "f_t = 93 c\n",
      "f_t = 1 c\n",
      "f_t = 4 c\n",
      "f_t = 26 c\n",
      "f_t = 43 c\n"
     ]
    }
   ],
   "source": [
    "#18. Develop a program that converts a given temperature from Celsius to Fahrenheit.\n",
    "\n",
    "\n",
    "fahrenheit_temperature=[201,35,40,80,110]\n",
    "\n",
    "\n",
    "for fahrenheit  in fahrenheit_temperature :\n",
    "    celsius=int((fahrenheit-32)*(5/9))\n",
    "    print(\"f_t\",\"=\",celsius,\"c\")"
   ]
  },
  {
   "cell_type": "code",
   "execution_count": 8,
   "id": "cd7c1fae-853a-4b0e-a71a-de980513fcd8",
   "metadata": {},
   "outputs": [
    {
     "name": "stdin",
     "output_type": "stream",
     "text": [
      "first no 6\n",
      "second no 7\n",
      "(+,-,*,/) *\n"
     ]
    },
    {
     "name": "stdout",
     "output_type": "stream",
     "text": [
      "42\n"
     ]
    }
   ],
   "source": [
    "#19. Create a program that simulates a basic calculator for addition, subtraction, multiplication, and division.\n",
    "\n",
    "x=int(input(\"first no\"))\n",
    "y=int(input(\"second no\"))    \n",
    "operator=input(\"(+,-,*,/)\" )\n",
    "\n",
    "if operator == '+':\n",
    "    print(x+y)\n",
    "elif operator == '-':\n",
    "    print(x-y)\n",
    "elif operator == '*':\n",
    "    print(x*y)\n",
    "elif operator == '/':\n",
    "    print(x/y)\n",
    "    \n",
    "    \n",
    "else:\n",
    "    print(\"invalid\")"
   ]
  },
  {
   "cell_type": "code",
   "execution_count": 14,
   "id": "d31d99d2-5ba9-4e28-9eef-ac1635910b20",
   "metadata": {},
   "outputs": [
    {
     "name": "stdout",
     "output_type": "stream",
     "text": [
      "roots of q.e are:  [(3.632993161855452+0j), (0.3670068381445481+0j)]\n"
     ]
    }
   ],
   "source": [
    "#20. Write a program that determines the roots of a cubic equation using the Cardano formula. \n",
    "\n",
    "import cmath\n",
    "\n",
    "def calculate_cubic_roots(a,b,c,d):\n",
    "    discriminant=(b**2)-(3*a*c)\n",
    "    delta=(2*(b**3))-(9*a*b*c)+(27*(a**2)*d)\n",
    "    \n",
    "    if discriminant>0:\n",
    "        root1=(-b+cmath.sqrt(discriminant))/(3*a)\n",
    "        root2=(-b-cmath.sqrt(discriminant))/(3*a)\n",
    "        return [root1,root2]\n",
    "    elif discriminant==0:\n",
    "        root=-b/(3*a)\n",
    "        return[root]\n",
    "    else:\n",
    "        cube_root=(-delta+cmath.sqrt((delta**2)-(4*discriminant**3)))/2\n",
    "        root1=(cmath.cbrt(cube_root)-(delta/(3*a*cmath.cbrt(cube_root))))\n",
    "        root2=(-(delta/(6*a*cmath.cbrt(cube_root)))+(1j*cmath.sqrt(3)*cmath.cbrt(cube_root))/(6*a))\n",
    "        root3=(-(delta/(6*a*cmath.cbrt(cube_root)))-(1j*cmath.sqrt(3)*cmath.cbrt(cube_root))/(6*a))\n",
    "        return[root1,root2,root3]\n",
    "               \n",
    "               \n",
    "#example\n",
    "a=1\n",
    "b=-6\n",
    "c=4\n",
    "d=5\n",
    "roots=calculate_cubic_roots(a,b,c,d)   \n",
    "print(\"roots of q.e are: \",roots)\n"
   ]
  },
  {
   "cell_type": "code",
   "execution_count": 7,
   "id": "ecf1b90b-2db3-4f8b-8fdb-d19deba3d07f",
   "metadata": {},
   "outputs": [
    {
     "name": "stdout",
     "output_type": "stream",
     "text": [
      "income tax is:  48000.0\n"
     ]
    }
   ],
   "source": [
    "#Create a program that calculates the income tax based on the user's income and tax brackets.\n",
    "\n",
    "def calculate_income_tax(income,brackets):\n",
    "    for bracket in brackets:\n",
    "        if income<=bracket['upper_limit']:\n",
    "            tax=(income-bracket['lower_limit']*bracket['rate'])\n",
    "            return tax\n",
    "    return 0\n",
    "\n",
    "#example\n",
    "income=50000\n",
    "tax_brackets=[{'lower_limit':0,'upper_limit':1000,'rate':0.1},{'lower_limit':10000,'upper_limit':50000,'rate':0.2},{'lower_limit':50000,'upper_limit':100000,'rate':0.3}]\n",
    "income_tax= calculate_income_tax(income,tax_brackets)\n",
    "print(\"income tax is: \",income_tax)"
   ]
  },
  {
   "cell_type": "code",
   "execution_count": 12,
   "id": "d64d292a-e075-4c9d-9411-61e040ae68c3",
   "metadata": {},
   "outputs": [
    {
     "name": "stdout",
     "output_type": "stream",
     "text": [
      "('you win computer_choose', 'scissor')\n"
     ]
    }
   ],
   "source": [
    "#22. Write a program that simulates a rock-paper-scissors game against the computer.\n",
    "\n",
    "import random\n",
    "\n",
    "#random.choice() used to choose coice on choices\n",
    "\n",
    "def play_game(player_choice):\n",
    "    choices=['rock','paper','scissor']\n",
    "    computer_choice=random.choice(choices)\n",
    "    \n",
    "    if player_choice==computer_choice:\n",
    "        return \"its a tie! both choose\", player_choice\n",
    "\n",
    "    if player_choice=='rock':\n",
    "        if computer_choice=='paper':\n",
    "            return \"you loose computer_choose\",computer_choice\n",
    "        else:\n",
    "            return \"you win computer_choose\",computer_choice\n",
    "    \n",
    "    if player_choice=='paper':\n",
    "        if computer_choice=='scissor':\n",
    "            return \"you loose computer_choose\",computer_choice\n",
    "        else:\n",
    "            return \"you win computer_choose\",computer_choice\n",
    "    \n",
    "    if player_choice=='scissor':\n",
    "        if computer_choice=='rock':\n",
    "            return \"you loose computer_choose\",computer_choice\n",
    "        else:\n",
    "            return \"you win computer_choose\",computer_choice\n",
    "    \n",
    "        return \"invaid!choose either one of rock,paper,scissor\"\n",
    "    \n",
    "#example usage\n",
    "\n",
    "player_choice='rock'\n",
    "result=play_game(player_choice)\n",
    "print(result)\n",
    "    \n",
    "    \n",
    "\n",
    "    "
   ]
  },
  {
   "cell_type": "code",
   "execution_count": 9,
   "id": "44dcf859-b860-423a-b57f-44cc319a22d0",
   "metadata": {},
   "outputs": [
    {
     "name": "stdout",
     "output_type": "stream",
     "text": [
      ",\n"
     ]
    }
   ],
   "source": [
    "#23. Develop a program that generates a random password based on user preferences (length, complexity).\n",
    "\n",
    "import random\n",
    "import string\n",
    "\n",
    "def generate_password(length ,complexity):\n",
    "    if complexity=='low':\n",
    "        characters=string.ascii_letters+string.digits\n",
    "    elif complexity =='medium':\n",
    "        characters=string.ascii_letters+string.digits+string.punctuation\n",
    "    elif complexity=='high':\n",
    "        characters=string.ascii_letters+string.digits+string.punctuation+string.ascii_uppercase+string.ascii_lowercase\n",
    "    else:\n",
    "        return \"invalid range of complexity,please choose low,medium or high\"\n",
    "    \n",
    "    password=''.join(random.choice(characters))\n",
    "    for _ in range(length):\n",
    "        return password\n",
    "#example usage\n",
    "length=10\n",
    "complexity='high'\n",
    "password=generate_password(length,complexity)\n",
    "print(password)\n",
    "        \n",
    "\n"
   ]
  },
  {
   "cell_type": "code",
   "execution_count": 10,
   "id": "d393dd50-22ad-4c4c-8a58-461380a8b9e7",
   "metadata": {},
   "outputs": [],
   "source": [
    "#24. Create a program that implements a simple text-based adventure game with branching scenarios.\n",
    "\n"
   ]
  },
  {
   "cell_type": "code",
   "execution_count": 11,
   "id": "e7caa384-699f-427b-a01f-a825edb722e4",
   "metadata": {},
   "outputs": [
    {
     "name": "stdin",
     "output_type": "stream",
     "text": [
      "enter the coefficient of x:  2\n",
      "enter the constant:  3\n"
     ]
    },
    {
     "name": "stdout",
     "output_type": "stream",
     "text": [
      "the solution of the linear equation is:  -1.5\n"
     ]
    }
   ],
   "source": [
    "#25. Build a program that solves a linear equation for x, considering different cases.\n",
    "\n",
    "#taking coefficients from the user\n",
    "\n",
    "a=float(input(\"enter the coefficient of x: \"))\n",
    "b=float(input(\"enter the constant: \"))\n",
    "\n",
    "if (a==0) and (b==0):\n",
    "    print(\"equation is inconsistant having infinite solutions\")\n",
    "elif (a==0) and (b!=0):\n",
    "    print(\"equation is inconsistant,having no solution\")\n",
    "else:\n",
    "    #print the solution\n",
    "    x=(-b/a)\n",
    "    print(\"the solution of the linear equation is: \",x)\n",
    "    "
   ]
  },
  {
   "cell_type": "code",
   "execution_count": 9,
   "id": "e0e111f4-4c47-4273-97b7-d4fdb1be370e",
   "metadata": {},
   "outputs": [
    {
     "name": "stdout",
     "output_type": "stream",
     "text": [
      "what is the capital of india?\n",
      "A.paris,B.delhi,C.hyderabad\n"
     ]
    },
    {
     "name": "stdin",
     "output_type": "stream",
     "text": [
      "enter your answer(A,B,C):  b\n"
     ]
    },
    {
     "name": "stdout",
     "output_type": "stream",
     "text": [
      "correct\n",
      "\n",
      "your score is:  1 out of 3\n",
      "Name the national flower of India?\n",
      "A.lotus,B.rose,C.hibiscus\n"
     ]
    },
    {
     "name": "stdin",
     "output_type": "stream",
     "text": [
      "enter your answer(A,B,C):  a\n"
     ]
    },
    {
     "name": "stdout",
     "output_type": "stream",
     "text": [
      "correct\n",
      "\n",
      "your score is:  2 out of 3\n",
      "when chandhrayan was launched?\n",
      "A.14july,B.6july,C.10july\n"
     ]
    },
    {
     "name": "stdin",
     "output_type": "stream",
     "text": [
      "enter your answer(A,B,C):  a\n"
     ]
    },
    {
     "name": "stdout",
     "output_type": "stream",
     "text": [
      "correct\n",
      "\n",
      "your score is:  3 out of 3\n"
     ]
    }
   ],
   "source": [
    "#26. Write a program that simulates a basic quiz game with multiple-choice questions and scoring.\n",
    "\n",
    "#initialsing score=0\n",
    "score=0\n",
    "\n",
    "#defining question and answers for the quiz\n",
    "\n",
    "questions=[{\"question\":\"what is the capital of india?\",\"options\":[\"A.paris,B.delhi,C.hyderabad\"],\"answer\":\"B\"},\n",
    "           {\"question\":\"Name the national flower of India?\",\"options\":[\"A.lotus,B.rose,C.hibiscus\"],\"answer\":\"A\"},\n",
    "           {\"question\":\"when chandhrayan was launched?\",\"options\":[\"A.14july,B.6july,C.10july\"],\"answer\":\"A\"}]\n",
    "#iterating through the questions\n",
    "\n",
    "for question in questions:\n",
    "    print(question[\"question\"])\n",
    "    for option in question[\"options\"]:\n",
    "        print(option)\n",
    "\n",
    "        #taking users answer\n",
    "        \n",
    "        user_answer=input(\"enter your answer(A,B,C): \")\n",
    "        if user_answer.upper()==question[\"answer\"]:\n",
    "            print(\"correct\")\n",
    "            score+=1\n",
    "        else:\n",
    "            print(\"incorrect\")\n",
    "            \n",
    "        print()\n",
    "        \n",
    "    #printing final score\n",
    "    print(\"your score is: \",score,\"out of\",len(questions))"
   ]
  },
  {
   "cell_type": "code",
   "execution_count": 11,
   "id": "95ba2632-ef53-44f3-aa76-6e54d55a3275",
   "metadata": {},
   "outputs": [
    {
     "name": "stdin",
     "output_type": "stream",
     "text": [
      "enter year:  1997\n"
     ]
    },
    {
     "name": "stdout",
     "output_type": "stream",
     "text": [
      "1997 is a prime numbered year\n"
     ]
    }
   ],
   "source": [
    "#27. Develop a program that determines whether a given year is a prime number or not.\n",
    "\n",
    "def is_prime(year):\n",
    "    if year<2:\n",
    "        return false\n",
    "    for i in range(2,int(year**0.5)+1):\n",
    "        if year%i==0:\n",
    "            return False\n",
    "    return True\n",
    "year=int(input(\"enter year: \"))\n",
    "if is_prime(year):\n",
    "    print(year,\"is a prime numbered year\")\n",
    "else:\n",
    "    print(year,\"is not prime numbered year\")\n"
   ]
  },
  {
   "cell_type": "code",
   "execution_count": 27,
   "id": "cd647e3b-1319-4dd3-849e-adfc4f0b05da",
   "metadata": {},
   "outputs": [
    {
     "name": "stdin",
     "output_type": "stream",
     "text": [
      "enter 1 number:  2\n",
      "enter 2 number:  6\n",
      "enter 3 number:  1\n"
     ]
    },
    {
     "name": "stdout",
     "output_type": "stream",
     "text": [
      "after sorting in asscending order :   1 , 2 , 6\n"
     ]
    }
   ],
   "source": [
    "#28. Create a program that sorts three numbers in ascending order using conditional statements.\n",
    "\n",
    "a=int(input(\"enter 1 number: \"))\n",
    "b=int(input(\"enter 2 number: \"))\n",
    "c=int(input(\"enter 3 number: \"))\n",
    "\n",
    "if a<=b and a<=c:\n",
    "    smallest=a\n",
    "    if b<=c:\n",
    "        middle=b\n",
    "        largest=c\n",
    "    else:\n",
    "        middle=c\n",
    "        largest=b\n",
    "elif b<=c and b<=a:\n",
    "    smallest=b\n",
    "    if c<=a:\n",
    "        middle=c\n",
    "        largest=a\n",
    "    else:\n",
    "        middle=a\n",
    "        largest=c\n",
    "elif c<=a and c<=b:\n",
    "        smallest=c\n",
    "if a<=b:\n",
    "    middle=a\n",
    "    largest=b\n",
    "else:\n",
    "    middle=b\n",
    "    largest=a\n",
    "            \n",
    "#printing result\n",
    "\n",
    "print(\"after sorting in asscending order :  \",smallest,\",\",middle,\",\",largest)\n",
    "        \n"
   ]
  },
  {
   "cell_type": "code",
   "execution_count": null,
   "id": "04ad0a5b-1ada-41ab-9e20-4c10470aab96",
   "metadata": {},
   "outputs": [],
   "source": [
    "#29. Build a program that determines the roots of a quartic equation using numerical methods."
   ]
  },
  {
   "cell_type": "code",
   "execution_count": 1,
   "id": "818aaaa5-39ef-43c7-bd65-891ca369cb51",
   "metadata": {},
   "outputs": [
    {
     "name": "stdin",
     "output_type": "stream",
     "text": [
      "enter weight in kg's:  52\n",
      "enter height im meters:  1.6\n"
     ]
    },
    {
     "name": "stdout",
     "output_type": "stream",
     "text": [
      "your bmi is:  20.312499999999996\n",
      "health recommendation is:  congratualtions you  are in healthy weight range,keep it in maintain\n"
     ]
    }
   ],
   "source": [
    "#30. Write a program that calculates the BMI (Body Mass Index) and provides health recommendations based\n",
    "\n",
    "def calculate_bmi(weight,height):\n",
    "    bmi=weight/(height**2)\n",
    "    return bmi\n",
    "def health_recommendation(bmi):\n",
    "    if bmi<18.5:\n",
    "        return \"you are underweight,it's recommended to gain healthy weight\"\n",
    "    elif bmi>18.5 and bmi<25:\n",
    "        return \"congratualtions you  are in healthy weight range,keep it in maintain\"\n",
    "    elif bmi>25:\n",
    "        return \"you are overweighted,recommended to focus on weight loss\"\n",
    "    else:\n",
    "        return \"obessed,its important to weight loss for overall health\"\n",
    "    \n",
    "weight=float(input(\"enter weight in kg's: \"))\n",
    "height=float(input(\"enter height im meters: \"))\n",
    "bmi=calculate_bmi(weight,height)\n",
    "recommendation=health_recommendation(bmi)\n",
    "    \n",
    "print(\"your bmi is: \",bmi)\n",
    "print(\"health recommendation is: \",recommendation)"
   ]
  },
  {
   "cell_type": "code",
   "execution_count": 18,
   "id": "bba86a1b-4ec3-43bb-a780-f17a0dde5fbf",
   "metadata": {},
   "outputs": [],
   "source": [
    "#40. Write a program that generates the prime factors of a given number using trial division.\n",
    "\n"
   ]
  },
  {
   "cell_type": "code",
   "execution_count": 11,
   "id": "9ab6e3dd-50e7-4620-8d62-9e1268107cb0",
   "metadata": {},
   "outputs": [
    {
     "name": "stdin",
     "output_type": "stream",
     "text": [
      "enter month:  5\n",
      "enter year:  1997\n"
     ]
    },
    {
     "name": "stdout",
     "output_type": "stream",
     "text": [
      "[[0, 0, 0, 1, 2, 3, 4], [5, 6, 7, 8, 9, 10, 11], [12, 13, 14, 15, 16, 17, 18], [19, 20, 21, 22, 23, 24, 25], [26, 27, 28, 29, 30, 31, 0]] "
     ]
    }
   ],
   "source": [
    "#38. Create a program that generates a calendar for a given month and year using conditional statements.\n",
    "\n",
    "import calendar\n",
    "def generate_calendar(month,year):\n",
    "    cal=calendar.monthcalendar(year,month)\n",
    "    return cal\n",
    "month=int(input(\"enter month: \"))\n",
    "year=int(input(\"enter year: \"))\n",
    "\n",
    "calendar=generate_calendar(month,year)\n",
    "print(calendar,end=\" \")"
   ]
  },
  {
   "cell_type": "code",
   "execution_count": 8,
   "id": "ddafb18d-6b2c-4f4d-94ba-86284b564594",
   "metadata": {},
   "outputs": [
    {
     "name": "stdin",
     "output_type": "stream",
     "text": [
      "enter number:  6\n"
     ]
    },
    {
     "name": "stdout",
     "output_type": "stream",
     "text": [
      "[0, 1, 1, 2, 3, 5]\n"
     ]
    }
   ],
   "source": [
    "#36. Write a program that generates Fibonacci numbers up to a specified term using iterative methods.\n",
    "\n",
    "def fibannoci(n):\n",
    "    series=[0,1]\n",
    "    for i in range(2,n):\n",
    "        series.append(series[i-1]+series[i-2])\n",
    "    return series\n",
    "    \n",
    "terms=int(input(\"enter number: \"))\n",
    "fibannoci_series=fibannoci(terms)\n",
    "print (fibannoci_series)"
   ]
  },
  {
   "cell_type": "code",
   "execution_count": 17,
   "id": "8b4c0293-d1be-41f3-b833-76146e809320",
   "metadata": {},
   "outputs": [
    {
     "ename": "SyntaxError",
     "evalue": "invalid syntax. Perhaps you forgot a comma? (2515715124.py, line 36)",
     "output_type": "error",
     "traceback": [
      "\u001b[0;36m  Cell \u001b[0;32mIn[17], line 36\u001b[0;36m\u001b[0m\n\u001b[0;31m    element=int(input()f\"enter element in the position{i+1},{j+1}: \")\u001b[0m\n\u001b[0m                ^\u001b[0m\n\u001b[0;31mSyntaxError\u001b[0m\u001b[0;31m:\u001b[0m invalid syntax. Perhaps you forgot a comma?\n"
     ]
    }
   ],
   "source": [
    "#32. Develop a program that performs matrix addition and subtraction based on user input.\n",
    "\n",
    "def matrix_addition(matrix1,matrix2):\n",
    "    result=[]\n",
    "    for i in range(len(matrix1)):\n",
    "        row=[]\n",
    "    for j in range(len(matrix[i])):\n",
    "        row.appen(matrix1[i][j]+matris2[i][j])\n",
    "        result.append(row)\n",
    "        return result\n",
    "\n",
    "def matrix_subtraction(matrix1,matrix2):\n",
    "    result=[]\n",
    "    for i in range(len(matrix1)):\n",
    "        row=[]\n",
    "    for j in range(len(matrix[i])):\n",
    "        row.appen(matrix1[i][j]-matris2[i][j])\n",
    "        result.append(row)\n",
    "        return result\n",
    "\n",
    "#taking dimension of matrix from the user\n",
    "\n",
    "row=int(input(\"enter no.of rows: \"))\n",
    "coloumns=int(input(\"enter no.of coloumns: \"))\n",
    "\n",
    "#taking matrix elements\n",
    "\n",
    "matrix1=[]\n",
    "matrix2=[]\n",
    "\n",
    "#initialsing elements to matrix\n",
    "\n",
    "for i in range(rows):\n",
    "    rows=[]\n",
    "for j in range(coloumncs):\n",
    "    element=int(input()f\"enter element in the position{i+1},{j+1}: \")\n",
    "    row.append(element)\n",
    "    matrix1.appen(row)\n",
    "        \n",
    "for i in range(rows):\n",
    "    rows=[]\n",
    "for j in range(coloumns):\n",
    "    element=int(input(f\"enter element in the position({i+1},{j+1}): \"))\n",
    "    row.append(element)\n",
    "    matrix2.append(row)\n",
    "                \n",
    "#adding and subtracting result\n",
    "                \n",
    "add_result=matrix_addition(matrix1,matrix2)\n",
    "sud_result=matrix_subtraction(matrix1,matrix2)\n",
    "                \n",
    "                print(\"matrix addition\")\n",
    "                for row in add_result:\n",
    "                    print(add_result)\n",
    "                print(\"matrixsubtraction\")\n",
    "                for row in sub_result:\n",
    "                     print(sub_result)"
   ]
  },
  {
   "cell_type": "code",
   "execution_count": 4,
   "id": "6a65a125-1145-4269-a271-d8b155acecd6",
   "metadata": {},
   "outputs": [
    {
     "name": "stdin",
     "output_type": "stream",
     "text": [
      "enter number 1:  34\n",
      "enter number 2:  56\n"
     ]
    },
    {
     "name": "stdout",
     "output_type": "stream",
     "text": [
      "gcd of  34  & 56 is: 2\n"
     ]
    }
   ],
   "source": [
    "#33. Write a program that calculates the greatest common divisor (GCD) of two numbers using the Euclidean\n",
    "\n",
    "def gcd(a,b):\n",
    "    while b!=0:\n",
    "        a,b=b,a%b\n",
    "        '''fisrt we assign a value to b then reminder of a/b is assigned to b \n",
    "        by swaping a always hold a gretest nmber'''\n",
    "    return a\n",
    "    #taking values from user\n",
    "    \n",
    "num1=int(input(\"enter number 1: \"))\n",
    "num2=int(input(\"enter number 2: \"))\n",
    "result=gcd(num1,num2)\n",
    "print(\"gcd of \",num1, \" &\",num2,\"is:\",result)\n",
    "    "
   ]
  },
  {
   "cell_type": "code",
   "execution_count": 14,
   "id": "69ac97bf-5f89-45af-a90d-36136d5fc5cd",
   "metadata": {},
   "outputs": [
    {
     "name": "stdout",
     "output_type": "stream",
     "text": [
      "[30, 54, 75]\n"
     ]
    }
   ],
   "source": [
    "#34. Build a program that performs matrix multiplication using nested loops and conditional statements.\n",
    "\n",
    "#initialising two matrices\n",
    "\n",
    "matrix1=[[1,2,3],\n",
    "        [3,4,5],\n",
    "        [5,6,7]]\n",
    "matrix2=[[4,5,6],\n",
    "        [3,3,4],\n",
    "        [1,2,3]]\n",
    "\n",
    "result=[]\n",
    "\n",
    "for i in range(len(matrix1)):\n",
    "    row=[]\n",
    "for j in range(len(matrix2[0])):\n",
    "    element=0\n",
    "for k in range(len(matrix2)):\n",
    "    element+=matrix1[i][k]*matrix2[k][j]\n",
    "    row.append(element)\n",
    "result.append(row)\n",
    "            \n",
    "for row in result:\n",
    "    print(row)"
   ]
  },
  {
   "cell_type": "code",
   "execution_count": 15,
   "id": "99b1d9d1-c21a-480f-89e4-b6de065865a1",
   "metadata": {},
   "outputs": [],
   "source": [
    "#35. Create a program that simulates a basic text-based tic-tac-toe game against the computer."
   ]
  }
 ],
 "metadata": {
  "kernelspec": {
   "display_name": "Python 3 (ipykernel)",
   "language": "python",
   "name": "python3"
  },
  "language_info": {
   "codemirror_mode": {
    "name": "ipython",
    "version": 3
   },
   "file_extension": ".py",
   "mimetype": "text/x-python",
   "name": "python",
   "nbconvert_exporter": "python",
   "pygments_lexer": "ipython3",
   "version": "3.10.8"
  },
  "toc-autonumbering": false,
  "toc-showcode": false,
  "toc-showmarkdowntxt": false
 },
 "nbformat": 4,
 "nbformat_minor": 5
}
